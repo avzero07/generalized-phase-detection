{
 "cells": [
  {
   "cell_type": "markdown",
   "id": "13d5cfb3",
   "metadata": {},
   "source": [
    "## Load EST_LIB"
   ]
  },
  {
   "cell_type": "code",
   "execution_count": 1,
   "id": "7f71c94a",
   "metadata": {},
   "outputs": [],
   "source": [
    "from est_lib.util.obspy_util import *\n",
    "from est_lib.util.obspy_plot import *"
   ]
  },
  {
   "cell_type": "markdown",
   "id": "5954461b",
   "metadata": {},
   "source": [
    "## Specify Event and Stations of Interest"
   ]
  },
  {
   "cell_type": "markdown",
   "id": "1ed88e30",
   "metadata": {},
   "source": [
    "## Retrieve Station Metadata"
   ]
  },
  {
   "cell_type": "code",
   "execution_count": 3,
   "id": "77b5c97d",
   "metadata": {},
   "outputs": [
    {
     "ename": "FDSNNoDataException",
     "evalue": "No data available for request.\nHTTP Status code: 204\nDetailed response of server:\n\n",
     "output_type": "error",
     "traceback": [
      "\u001b[1;31m---------------------------------------------------------------------------\u001b[0m",
      "\u001b[1;31mFDSNNoDataException\u001b[0m                       Traceback (most recent call last)",
      "\u001b[1;32m<ipython-input-3-f38e47ebb97a>\u001b[0m in \u001b[0;36m<module>\u001b[1;34m\u001b[0m\n\u001b[1;32m----> 1\u001b[1;33m \u001b[0mstation_metadata\u001b[0m \u001b[1;33m=\u001b[0m \u001b[0minventory_retriever\u001b[0m\u001b[1;33m(\u001b[0m\u001b[0msta_list\u001b[0m\u001b[1;33m=\u001b[0m\u001b[1;34m'HOLB'\u001b[0m\u001b[1;33m)\u001b[0m\u001b[1;33m\u001b[0m\u001b[1;33m\u001b[0m\u001b[0m\n\u001b[0m",
      "\u001b[1;32mc:\\users\\aksha\\desktop\\eew-spatio-temporal\\est_lib\\util\\obspy_util.py\u001b[0m in \u001b[0;36minventory_retriever\u001b[1;34m(network, sta_list, level)\u001b[0m\n\u001b[0;32m     26\u001b[0m     '''\n\u001b[0;32m     27\u001b[0m     \u001b[0msta_list_string\u001b[0m \u001b[1;33m=\u001b[0m \u001b[0mstringify_list\u001b[0m\u001b[1;33m(\u001b[0m\u001b[0msta_list\u001b[0m\u001b[1;33m)\u001b[0m\u001b[1;33m\u001b[0m\u001b[1;33m\u001b[0m\u001b[0m\n\u001b[1;32m---> 28\u001b[1;33m     inventory = client.get_stations(network=network,\n\u001b[0m\u001b[0;32m     29\u001b[0m                                     \u001b[0mstation\u001b[0m\u001b[1;33m=\u001b[0m\u001b[0msta_list_string\u001b[0m\u001b[1;33m,\u001b[0m\u001b[1;33m\u001b[0m\u001b[1;33m\u001b[0m\u001b[0m\n\u001b[0;32m     30\u001b[0m                                     level=level)\n",
      "\u001b[1;32mc:\\users\\aksha\\desktop\\obspy\\obspy\\clients\\fdsn\\client.py\u001b[0m in \u001b[0;36mget_stations\u001b[1;34m(self, starttime, endtime, startbefore, startafter, endbefore, endafter, network, station, location, channel, minlatitude, maxlatitude, minlongitude, maxlongitude, latitude, longitude, minradius, maxradius, level, includerestricted, includeavailability, updatedafter, matchtimeseries, filename, format, **kwargs)\u001b[0m\n\u001b[0;32m    738\u001b[0m             \"station\", DEFAULT_PARAMETERS['station'], kwargs)\n\u001b[0;32m    739\u001b[0m \u001b[1;33m\u001b[0m\u001b[0m\n\u001b[1;32m--> 740\u001b[1;33m         \u001b[0mdata_stream\u001b[0m \u001b[1;33m=\u001b[0m \u001b[0mself\u001b[0m\u001b[1;33m.\u001b[0m\u001b[0m_download\u001b[0m\u001b[1;33m(\u001b[0m\u001b[0murl\u001b[0m\u001b[1;33m)\u001b[0m\u001b[1;33m\u001b[0m\u001b[1;33m\u001b[0m\u001b[0m\n\u001b[0m\u001b[0;32m    741\u001b[0m         \u001b[0mdata_stream\u001b[0m\u001b[1;33m.\u001b[0m\u001b[0mseek\u001b[0m\u001b[1;33m(\u001b[0m\u001b[1;36m0\u001b[0m\u001b[1;33m,\u001b[0m \u001b[1;36m0\u001b[0m\u001b[1;33m)\u001b[0m\u001b[1;33m\u001b[0m\u001b[1;33m\u001b[0m\u001b[0m\n\u001b[0;32m    742\u001b[0m         \u001b[1;32mif\u001b[0m \u001b[0mfilename\u001b[0m\u001b[1;33m:\u001b[0m\u001b[1;33m\u001b[0m\u001b[1;33m\u001b[0m\u001b[0m\n",
      "\u001b[1;32mc:\\users\\aksha\\desktop\\obspy\\obspy\\clients\\fdsn\\client.py\u001b[0m in \u001b[0;36m_download\u001b[1;34m(self, url, return_string, data, use_gzip)\u001b[0m\n\u001b[0;32m   1410\u001b[0m             \u001b[0mdebug\u001b[0m\u001b[1;33m=\u001b[0m\u001b[0mself\u001b[0m\u001b[1;33m.\u001b[0m\u001b[0mdebug\u001b[0m\u001b[1;33m,\u001b[0m \u001b[0mreturn_string\u001b[0m\u001b[1;33m=\u001b[0m\u001b[0mreturn_string\u001b[0m\u001b[1;33m,\u001b[0m \u001b[0mdata\u001b[0m\u001b[1;33m=\u001b[0m\u001b[0mdata\u001b[0m\u001b[1;33m,\u001b[0m\u001b[1;33m\u001b[0m\u001b[1;33m\u001b[0m\u001b[0m\n\u001b[0;32m   1411\u001b[0m             timeout=self.timeout, use_gzip=use_gzip)\n\u001b[1;32m-> 1412\u001b[1;33m         \u001b[0mraise_on_error\u001b[0m\u001b[1;33m(\u001b[0m\u001b[0mcode\u001b[0m\u001b[1;33m,\u001b[0m \u001b[0mdata\u001b[0m\u001b[1;33m)\u001b[0m\u001b[1;33m\u001b[0m\u001b[1;33m\u001b[0m\u001b[0m\n\u001b[0m\u001b[0;32m   1413\u001b[0m         \u001b[1;32mreturn\u001b[0m \u001b[0mdata\u001b[0m\u001b[1;33m\u001b[0m\u001b[1;33m\u001b[0m\u001b[0m\n\u001b[0;32m   1414\u001b[0m \u001b[1;33m\u001b[0m\u001b[0m\n",
      "\u001b[1;32mc:\\users\\aksha\\desktop\\obspy\\obspy\\clients\\fdsn\\client.py\u001b[0m in \u001b[0;36mraise_on_error\u001b[1;34m(code, data)\u001b[0m\n\u001b[0;32m   1740\u001b[0m     \u001b[1;31m# No data.\u001b[0m\u001b[1;33m\u001b[0m\u001b[1;33m\u001b[0m\u001b[1;33m\u001b[0m\u001b[0m\n\u001b[0;32m   1741\u001b[0m     \u001b[1;32mif\u001b[0m \u001b[0mcode\u001b[0m \u001b[1;33m==\u001b[0m \u001b[1;36m204\u001b[0m\u001b[1;33m:\u001b[0m\u001b[1;33m\u001b[0m\u001b[1;33m\u001b[0m\u001b[0m\n\u001b[1;32m-> 1742\u001b[1;33m         raise FDSNNoDataException(\"No data available for request.\",\n\u001b[0m\u001b[0;32m   1743\u001b[0m                                   server_info)\n\u001b[0;32m   1744\u001b[0m     \u001b[1;32melif\u001b[0m \u001b[0mcode\u001b[0m \u001b[1;33m==\u001b[0m \u001b[1;36m400\u001b[0m\u001b[1;33m:\u001b[0m\u001b[1;33m\u001b[0m\u001b[1;33m\u001b[0m\u001b[0m\n",
      "\u001b[1;31mFDSNNoDataException\u001b[0m: No data available for request.\nHTTP Status code: 204\nDetailed response of server:\n\n"
     ]
    }
   ],
   "source": [
    "station_metadata = inventory_retriever(sta_list='HOLB')"
   ]
  },
  {
   "cell_type": "markdown",
   "id": "c3d8ea12",
   "metadata": {},
   "source": [
    "## Retrieve Waveform Data"
   ]
  },
  {
   "cell_type": "code",
   "execution_count": null,
   "id": "9f90152f",
   "metadata": {},
   "outputs": [],
   "source": [
    "data = stream_reader('264_HOLB-velocity.mseed')"
   ]
  },
  {
   "cell_type": "markdown",
   "id": "facbd873",
   "metadata": {},
   "source": [
    "## Visualize EQ Source and Stations"
   ]
  },
  {
   "cell_type": "code",
   "execution_count": null,
   "id": "ece40a03",
   "metadata": {},
   "outputs": [],
   "source": [
    "op = ray_plot(\n",
    "    ev_lat=event_lat,\n",
    "    ev_lon=event_lon,\n",
    "    streams=data,\n",
    "    inventory=station_metadata)"
   ]
  },
  {
   "cell_type": "markdown",
   "id": "31709d57",
   "metadata": {},
   "source": [
    "## Visualize Waveforms at Station 'HOLB'"
   ]
  },
  {
   "cell_type": "code",
   "execution_count": null,
   "id": "2f0cfa9b",
   "metadata": {},
   "outputs": [],
   "source": [
    "op = data.select(station='HOLB').plot()"
   ]
  },
  {
   "cell_type": "markdown",
   "id": "8fcae558",
   "metadata": {},
   "source": [
    "## Visualize Streams from All Stations"
   ]
  },
  {
   "cell_type": "code",
   "execution_count": null,
   "id": "7d4f429c",
   "metadata": {},
   "outputs": [],
   "source": [
    "op = gen_offset_plot(streams=data,channels='HHZ')"
   ]
  }
 ],
 "metadata": {
  "kernelspec": {
   "display_name": "Python 3",
   "language": "python",
   "name": "python3"
  },
  "language_info": {
   "codemirror_mode": {
    "name": "ipython",
    "version": 3
   },
   "file_extension": ".py",
   "mimetype": "text/x-python",
   "name": "python",
   "nbconvert_exporter": "python",
   "pygments_lexer": "ipython3",
   "version": "3.8.8"
  }
 },
 "nbformat": 4,
 "nbformat_minor": 5
}
